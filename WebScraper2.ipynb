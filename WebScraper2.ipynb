{
  "nbformat": 4,
  "nbformat_minor": 0,
  "metadata": {
    "colab": {
      "name": "WebScraper.ipynb",
      "provenance": [],
      "include_colab_link": true
    },
    "kernelspec": {
      "name": "python3",
      "display_name": "Python 3"
    },
    "language_info": {
      "name": "python"
    }
  },
  "cells": [
    {
      "cell_type": "markdown",
      "metadata": {
        "id": "view-in-github",
        "colab_type": "text"
      },
      "source": [
        "<a href=\"https://colab.research.google.com/github/bautzon/NLP/blob/main/WebScraper2.ipynb\" target=\"_parent\"><img src=\"https://colab.research.google.com/assets/colab-badge.svg\" alt=\"Open In Colab\"/></a>"
      ]
    },
    {
      "cell_type": "code",
      "execution_count": 131,
      "metadata": {
        "id": "Cko60AtX-nkR"
      },
      "outputs": [],
      "source": [
        "import urllib.request\n",
        "import bs4 as bs\n",
        "import json\n",
        "\n"
      ]
    },
    {
      "cell_type": "code",
      "source": [
        "source = urllib.request.urlopen('https://www.reddit.com/r/gaming/').read()\n",
        "\n",
        "sæt=set()\n",
        "for i in soup.findAll('div'):\n",
        "  titles=i.find('h3')\n",
        "  if titles is not None:\n",
        "    sæt.add(titles.getText())\n",
        "\n",
        "print(sæt)\n",
        "print(len(sæt))\n",
        "\n",
        "  \n",
        "  \n",
        "  \n",
        "\n",
        "  \n",
        "\n",
        "\n",
        "\n",
        "\n",
        "\n"
      ],
      "metadata": {
        "colab": {
          "base_uri": "https://localhost:8080/"
        },
        "id": "JGzes6-G4pCG",
        "outputId": "753e35d8-e8a8-4486-f26d-efb8e92613da"
      },
      "execution_count": 124,
      "outputs": [
        {
          "output_type": "stream",
          "name": "stdout",
          "text": [
            "123\n",
            "{'Self Promotion Saturday! Small streamer? Just getting started? Tell us about it here!', 'Literally just a cutscene from Spider-Man', 'Ah nostalgia...', '80’s arcade in garage :)', 'What’s a game everyone NEEDS to play in their lifetime?', '\"Elden Ring is not that hard\"', 'I love Fromsoft so much'}\n",
            "7\n"
          ]
        }
      ]
    },
    {
      "cell_type": "code",
      "source": [
        "\n",
        "source2 = urllib.request.urlopen('https://www.reddit.com/r/gaming/.json?limit=50').read()\n",
        "\n",
        "jsonResponse = json.loads(source2.decode('utf-8'))\n",
        "for i in jsonResponse['data']['children']:\n",
        "  print(i['data']['selftext'])\n",
        "\n",
        "  #print(jsonResponse['data']['children'][0]['data']['title'])"
      ],
      "metadata": {
        "id": "QrxrsvgtPIva",
        "outputId": "312ce44d-aa66-47ef-be7a-d7ae4a9efec5",
        "colab": {
          "base_uri": "https://localhost:8080/"
        }
      },
      "execution_count": 150,
      "outputs": [
        {
          "output_type": "stream",
          "name": "stdout",
          "text": [
            "Use this post to tell us about your YouTube Channel or Twitch stream! Show us your creativity and tell us why we should subscribe. What makes you unique?\n",
            "\n",
            "Please note that this thread is NOT for selling or advertising stores. Report any such posts and we'll deal with them. Thanks!\n",
            "\n",
            "This thread is posted weekly on Saturdays (adjustments made as needed).\n",
            "\n",
            "Reminder that you must follow our [rules of promotion.](https://www.reddit.com/r/gaming/wiki/index?utm_source=reddit&amp;utm_medium=usertext&amp;utm_name=gaming&amp;utm_content=t5_2qh03#wiki_rule_7.3A_self-promotion)\n",
            "\n",
            "\n",
            "\n",
            "\n",
            "\n",
            "\n",
            "\n",
            "\n",
            "\n",
            "\n",
            "\n",
            "\n",
            "\n",
            "\n",
            "\n",
            "\n",
            "\n",
            "\n",
            "\n",
            "\n",
            "\n",
            "\n",
            "\n",
            "\n",
            "\n",
            "\n",
            "\n",
            "\n",
            "\n",
            "\n",
            "\n",
            "\n",
            "\n",
            "\n",
            "\n",
            "\n",
            "\n",
            "\n",
            "This is a constant annoyance.  I love playing Rainbow 6 Siege and Extraction as well as stuff like Apex and Overwatch.  I mainly solo queue as none of my friends play these.\n",
            "\n",
            "I am on xbox.  A lot of the time it is goddamn kids on the team which can't be avoided but I don't wanna be in chat parties with them.\n",
            "\n",
            "I am 30 and if I had kids I wouldn't really want them to be in chat parties with  starngers grown men either.\n",
            "\n",
            "They should do something like let you queue based on age or something because xbox is creating a totally weird situation.\n",
            "\n",
            "\n",
            "\n",
            "\n",
            "\n",
            "\n",
            "\n",
            "\n",
            "\n",
            "\n",
            "\n"
          ]
        }
      ]
    }
  ]
}