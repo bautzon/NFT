{
  "nbformat": 4,
  "nbformat_minor": 0,
  "metadata": {
    "colab": {
      "name": "WebScraper.ipynb",
      "provenance": [],
      "toc_visible": true,
      "include_colab_link": true
    },
    "kernelspec": {
      "name": "python3",
      "display_name": "Python 3"
    },
    "language_info": {
      "name": "python"
    }
  },
  "cells": [
    {
      "cell_type": "markdown",
      "metadata": {
        "id": "view-in-github",
        "colab_type": "text"
      },
      "source": [
        "<a href=\"https://colab.research.google.com/github/bautzon/NLP/blob/main/WebScraper4.ipynb\" target=\"_parent\"><img src=\"https://colab.research.google.com/assets/colab-badge.svg\" alt=\"Open In Colab\"/></a>"
      ]
    },
    {
      "cell_type": "code",
      "execution_count": 195,
      "metadata": {
        "id": "Cko60AtX-nkR"
      },
      "outputs": [],
      "source": [
        "import urllib.request\n",
        "import bs4 as bs\n",
        "import json\n",
        "\n"
      ]
    },
    {
      "cell_type": "code",
      "source": [
        "source = urllib.request.urlopen('https://www.reddit.com/r/gaming/').read()\n",
        "\n",
        "sæt=set()\n",
        "for i in soup.findAll('div'):\n",
        "  titles=i.find('h3')\n",
        "  if titles is not None:\n",
        "    sæt.add(titles.getText())\n",
        "\n",
        "print(sæt)\n",
        "print(len(sæt))\n",
        "\n",
        "  \n",
        "  \n",
        "  \n",
        "\n",
        "  \n",
        "\n",
        "\n",
        "\n",
        "\n",
        "\n"
      ],
      "metadata": {
        "colab": {
          "base_uri": "https://localhost:8080/"
        },
        "id": "JGzes6-G4pCG",
        "outputId": "753e35d8-e8a8-4486-f26d-efb8e92613da"
      },
      "execution_count": 124,
      "outputs": [
        {
          "output_type": "stream",
          "name": "stdout",
          "text": [
            "123\n",
            "{'Self Promotion Saturday! Small streamer? Just getting started? Tell us about it here!', 'Literally just a cutscene from Spider-Man', 'Ah nostalgia...', '80’s arcade in garage :)', 'What’s a game everyone NEEDS to play in their lifetime?', '\"Elden Ring is not that hard\"', 'I love Fromsoft so much'}\n",
            "7\n"
          ]
        }
      ]
    },
    {
      "cell_type": "code",
      "source": [
        "\n",
        "def scrape(url):\n",
        "  data= {\"title\":[],\n",
        "              \"body\":[],\n",
        "              \"upvotes\":[]   \n",
        "      }\n",
        "  source2 = urllib.request.urlopen(url).read()\n",
        "  jsonResponse = json.loads(source2.decode('utf-8'))\n",
        "\n",
        "  for i in jsonResponse['data']['children']:\n",
        "    upvotes=i['data']['ups']\n",
        "    title=i['data']['title']\n",
        "    body=i['data']['selftext']\n",
        "    if upvotes>50:\n",
        "      data['title'].append(title)\n",
        "      data['body'].append(body) \n",
        "      data['upvotes'].append(upvotes)    \n",
        "      \n",
        "      j=json.dumps(data,indent=4)\n",
        "  return data\n",
        "   \n",
        "\n",
        "data=scrape('https://www.reddit.com/r/gaming/.json?limit=10')\n",
        "print(data)\n",
        "\n",
        "\n",
        "  #print(jsonResponse['data']['children'][0]['data']['title'])"
      ],
      "metadata": {
        "colab": {
          "base_uri": "https://localhost:8080/"
        },
        "id": "QrxrsvgtPIva",
        "outputId": "76c2f8b7-54dd-44e1-b251-6818e28ce02b"
      },
      "execution_count": 237,
      "outputs": [
        {
          "output_type": "stream",
          "name": "stdout",
          "text": [
            "{'title': ['Medic!', '\"Elden Ring is not that hard\"', 'Literally just a cutscene from Spider-Man', 'Elden Ring is cool and all but i prefer Kirby', \"What is your favorite 'I dont care about the story, im just here to have fun!' game?\", '80’s arcade in garage :)', 'What’s a game everyone NEEDS to play in their lifetime?', 'I love Fromsoft so much', 'Stop pressuring game devs into releasing the game before it’s ready', 'Ah nostalgia...'], 'body': ['', '', '', '', '', '', '', '', '', ''], 'upvotes': [2137, 70151, 1739, 853, 888, 2927, 29901, 5643, 279, 61149]}\n"
          ]
        }
      ]
    }
  ]
}