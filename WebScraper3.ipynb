{
  "nbformat": 4,
  "nbformat_minor": 0,
  "metadata": {
    "colab": {
      "name": "WebScraper.ipynb",
      "provenance": [],
      "toc_visible": true,
      "include_colab_link": true
    },
    "kernelspec": {
      "name": "python3",
      "display_name": "Python 3"
    },
    "language_info": {
      "name": "python"
    }
  },
  "cells": [
    {
      "cell_type": "markdown",
      "metadata": {
        "id": "view-in-github",
        "colab_type": "text"
      },
      "source": [
        "<a href=\"https://colab.research.google.com/github/bautzon/NLP/blob/main/WebScraper3.ipynb\" target=\"_parent\"><img src=\"https://colab.research.google.com/assets/colab-badge.svg\" alt=\"Open In Colab\"/></a>"
      ]
    },
    {
      "cell_type": "code",
      "execution_count": 195,
      "metadata": {
        "id": "Cko60AtX-nkR"
      },
      "outputs": [],
      "source": [
        "import urllib.request\n",
        "import bs4 as bs\n",
        "import json\n",
        "\n"
      ]
    },
    {
      "cell_type": "code",
      "source": [
        "source = urllib.request.urlopen('https://www.reddit.com/r/gaming/').read()\n",
        "\n",
        "sæt=set()\n",
        "for i in soup.findAll('div'):\n",
        "  titles=i.find('h3')\n",
        "  if titles is not None:\n",
        "    sæt.add(titles.getText())\n",
        "\n",
        "print(sæt)\n",
        "print(len(sæt))\n",
        "\n",
        "  \n",
        "  \n",
        "  \n",
        "\n",
        "  \n",
        "\n",
        "\n",
        "\n",
        "\n",
        "\n"
      ],
      "metadata": {
        "colab": {
          "base_uri": "https://localhost:8080/"
        },
        "id": "JGzes6-G4pCG",
        "outputId": "753e35d8-e8a8-4486-f26d-efb8e92613da"
      },
      "execution_count": 124,
      "outputs": [
        {
          "output_type": "stream",
          "name": "stdout",
          "text": [
            "123\n",
            "{'Self Promotion Saturday! Small streamer? Just getting started? Tell us about it here!', 'Literally just a cutscene from Spider-Man', 'Ah nostalgia...', '80’s arcade in garage :)', 'What’s a game everyone NEEDS to play in their lifetime?', '\"Elden Ring is not that hard\"', 'I love Fromsoft so much'}\n",
            "7\n"
          ]
        }
      ]
    },
    {
      "cell_type": "code",
      "source": [
        "\n",
        "source2 = urllib.request.urlopen('https://www.reddit.com/r/jokes/.json?limit=5').read()\n",
        "\n",
        "jsonResponse = json.loads(source2.decode('utf-8'))\n",
        "print(type(jsonResponse))\n",
        "\n",
        "jsonlist=[]\n",
        "for i in jsonResponse['data']['children']:\n",
        "  upvotes=i['data']['ups']\n",
        "  title=i['data']['title']\n",
        "  body=i['data']['selftext']\n",
        "  if upvotes>50:\n",
        "     data= {\"title\":title,\n",
        "            \"body\":body,\n",
        "            \"upvotes\":upvotes   \n",
        "     }\n",
        "     j=json.dumps(data,indent=4)\n",
        "     jsonlist.append(data)\n",
        "     print(j)\n",
        "\n",
        "  \n",
        "print(jsonlist)\n",
        "  #print(jsonResponse['data']['children'][0]['data']['title'])"
      ],
      "metadata": {
        "colab": {
          "base_uri": "https://localhost:8080/"
        },
        "id": "QrxrsvgtPIva",
        "outputId": "1b2b2437-ea85-4b88-af9b-7af41b839867"
      },
      "execution_count": 222,
      "outputs": [
        {
          "output_type": "stream",
          "name": "stdout",
          "text": [
            "<class 'dict'>\n",
            "{\n",
            "    \"title\": \"Reposts...\",\n",
            "    \"body\": \"r/Jokes has a search feature, input the title or punchline of your joke (before posting) and if it's been posted within the last month - please don't submit it.\",\n",
            "    \"upvotes\": 5311\n",
            "}\n",
            "{\n",
            "    \"title\": \"r/jokes has a discord and you need to join!\",\n",
            "    \"body\": \"Over 20k members! Come see reposts in real time!\\n\\nhttps://discord.gg/jokes\",\n",
            "    \"upvotes\": 818\n",
            "}\n",
            "{\n",
            "    \"title\": \"Stalin appears to Putin in a dream.\",\n",
            "    \"body\": \"\\\"Why is everything here so bad?\\\" asks Putin, \\\"what can I do to make Russia great again?\\\"\\n\\nStalin replies, \\\"Execute half of your population and paint the Kremlin blue.\\\"\\n\\n\\\"Why blue?\\\" asks the inquisitive Putin.\\n\\n\\\"I knew you wouldn't object to the first part,\\\" says Stalin.\",\n",
            "    \"upvotes\": 5131\n",
            "}\n",
            "{\n",
            "    \"title\": \"A sadist, a masochist, a murderer, a necrophile, a zoophile and a pyromaniac are all sitting on a bench in a mental institution.\",\n",
            "    \"body\": \"\\\"Let's have sex with a cat?\\\" asked the zoophile.\\n\\n\\\"Let's have sex with the cat and then torture it,\\\" says the sadist.\\n\\n\\\"Let's have sex with the cat, torture it and then kill it,\\\" shouted the murderer.\\n\\n\\\"Let's have sex with the cat, torture it, kill it and then have sex with it again,\\\" said the necrophile.\\n\\n\\\"Let's have sex with the cat, torture it, kill it, have sex with it again and then burn it,\\\" said the pyromaniac.\\n\\nThere was silence, and then the masochist said:\\n\\n\\\"Meow.\\\"\",\n",
            "    \"upvotes\": 23572\n",
            "}\n",
            "{\n",
            "    \"title\": \"My penis was in the Guinness Book of World Records,\",\n",
            "    \"body\": \"then the librarian asked me to take it out\",\n",
            "    \"upvotes\": 511\n",
            "}\n",
            "{\n",
            "    \"title\": \"Officer: I\\u2019m arresting yoh for illegally downloading the entire wikipedia\",\n",
            "    \"body\": \"Man: Wait I can explain everything!\",\n",
            "    \"upvotes\": 978\n",
            "}\n",
            "{\n",
            "    \"title\": \"If Ani is short for Anakin and Obi is short for Obi-Wan, what is Luke short for?\",\n",
            "    \"body\": \"A stormtrooper.\",\n",
            "    \"upvotes\": 7686\n",
            "}\n",
            "[{'title': 'Reposts...', 'body': \"r/Jokes has a search feature, input the title or punchline of your joke (before posting) and if it's been posted within the last month - please don't submit it.\", 'upvotes': 5311}, {'title': 'r/jokes has a discord and you need to join!', 'body': 'Over 20k members! Come see reposts in real time!\\n\\nhttps://discord.gg/jokes', 'upvotes': 818}, {'title': 'Stalin appears to Putin in a dream.', 'body': '\"Why is everything here so bad?\" asks Putin, \"what can I do to make Russia great again?\"\\n\\nStalin replies, \"Execute half of your population and paint the Kremlin blue.\"\\n\\n\"Why blue?\" asks the inquisitive Putin.\\n\\n\"I knew you wouldn\\'t object to the first part,\" says Stalin.', 'upvotes': 5131}, {'title': 'A sadist, a masochist, a murderer, a necrophile, a zoophile and a pyromaniac are all sitting on a bench in a mental institution.', 'body': '\"Let\\'s have sex with a cat?\" asked the zoophile.\\n\\n\"Let\\'s have sex with the cat and then torture it,\" says the sadist.\\n\\n\"Let\\'s have sex with the cat, torture it and then kill it,\" shouted the murderer.\\n\\n\"Let\\'s have sex with the cat, torture it, kill it and then have sex with it again,\" said the necrophile.\\n\\n\"Let\\'s have sex with the cat, torture it, kill it, have sex with it again and then burn it,\" said the pyromaniac.\\n\\nThere was silence, and then the masochist said:\\n\\n\"Meow.\"', 'upvotes': 23572}, {'title': 'My penis was in the Guinness Book of World Records,', 'body': 'then the librarian asked me to take it out', 'upvotes': 511}, {'title': 'Officer: I’m arresting yoh for illegally downloading the entire wikipedia', 'body': 'Man: Wait I can explain everything!', 'upvotes': 978}, {'title': 'If Ani is short for Anakin and Obi is short for Obi-Wan, what is Luke short for?', 'body': 'A stormtrooper.', 'upvotes': 7686}]\n"
          ]
        }
      ]
    }
  ]
}